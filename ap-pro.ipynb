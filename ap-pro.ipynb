{
 "cells": [
  {
   "cell_type": "code",
   "execution_count": 52,
   "metadata": {},
   "outputs": [],
   "source": [
    "import random"
   ]
  },
  {
   "cell_type": "markdown",
   "metadata": {},
   "source": [
    "# Скобка 1"
   ]
  },
  {
   "cell_type": "code",
   "execution_count": 341,
   "metadata": {},
   "outputs": [],
   "source": [
    "my_list='()((((()))))'"
   ]
  },
  {
   "cell_type": "code",
   "execution_count": 342,
   "metadata": {},
   "outputs": [],
   "source": [
    "def skobka1(my_list):\n",
    "    if len(my_list)%2==1:\n",
    "        return False\n",
    "    j = 0\n",
    "    for i in my_list:\n",
    "        if i == '(':\n",
    "            j += 1\n",
    "        elif i == ')':\n",
    "            j -= 1\n",
    "            if j < 0:\n",
    "                return False\n",
    "\n",
    "    return j == 0"
   ]
  },
  {
   "cell_type": "code",
   "execution_count": 343,
   "metadata": {},
   "outputs": [
    {
     "name": "stdout",
     "output_type": "stream",
     "text": [
      "CPU times: user 7 µs, sys: 0 ns, total: 7 µs\n",
      "Wall time: 31 µs\n"
     ]
    },
    {
     "data": {
      "text/plain": [
       "True"
      ]
     },
     "execution_count": 343,
     "metadata": {},
     "output_type": "execute_result"
    }
   ],
   "source": [
    "%%time\n",
    "skobka1(my_list)"
   ]
  },
  {
   "cell_type": "markdown",
   "metadata": {},
   "source": [
    "# Скобка 2"
   ]
  },
  {
   "cell_type": "code",
   "execution_count": 376,
   "metadata": {},
   "outputs": [],
   "source": [
    "my_list='{([])}()'"
   ]
  },
  {
   "cell_type": "code",
   "execution_count": 377,
   "metadata": {},
   "outputs": [],
   "source": [
    "def check(my_list):\n",
    "    if len(my_list)%2==1:\n",
    "        return False\n",
    "    open_skobka = ('(', '[', '{')\n",
    "    close_skobka = (')', ']', '}')\n",
    "    stack = []\n",
    "    for i in my_list:\n",
    "        if i in open_skobka:\n",
    "            stack.append(i)\n",
    "        if i in close_skobka:    \n",
    "            if len(stack) == 0:\n",
    "                return False\n",
    "            index = close_skobka.index(i)\n",
    "            open_bracket = open_skobka[index]\n",
    "            if stack[-1] == open_bracket:\n",
    "                stack = stack[:-1]  \n",
    "            else: return False  \n",
    "    return (not stack)"
   ]
  },
  {
   "cell_type": "code",
   "execution_count": 378,
   "metadata": {},
   "outputs": [
    {
     "name": "stdout",
     "output_type": "stream",
     "text": [
      "CPU times: user 10 µs, sys: 1 µs, total: 11 µs\n",
      "Wall time: 11.9 µs\n"
     ]
    },
    {
     "data": {
      "text/plain": [
       "True"
      ]
     },
     "execution_count": 378,
     "metadata": {},
     "output_type": "execute_result"
    }
   ],
   "source": [
    "%%time\n",
    "check(my_list)"
   ]
  },
  {
   "cell_type": "markdown",
   "metadata": {},
   "source": [
    "# Кратность 1"
   ]
  },
  {
   "cell_type": "code",
   "execution_count": 322,
   "metadata": {},
   "outputs": [],
   "source": [
    "def kratnost1(n):\n",
    "    krat={}\n",
    "    for i in range(1,n):\n",
    "        if i%15==0:\n",
    "            krat[i]='раз-два'\n",
    "        elif i%3==0:\n",
    "            krat[i]='раз'\n",
    "        elif i%5==0:\n",
    "            krat[i]='два'\n",
    "    return krat"
   ]
  },
  {
   "cell_type": "code",
   "execution_count": 323,
   "metadata": {},
   "outputs": [
    {
     "name": "stdout",
     "output_type": "stream",
     "text": [
      "CPU times: user 22 µs, sys: 1e+03 ns, total: 23 µs\n",
      "Wall time: 23.6 µs\n"
     ]
    },
    {
     "data": {
      "text/plain": [
       "{3: 'раз',\n",
       " 5: 'два',\n",
       " 6: 'раз',\n",
       " 9: 'раз',\n",
       " 10: 'два',\n",
       " 12: 'раз',\n",
       " 15: 'раз-два',\n",
       " 18: 'раз',\n",
       " 20: 'два',\n",
       " 21: 'раз',\n",
       " 24: 'раз',\n",
       " 25: 'два',\n",
       " 27: 'раз',\n",
       " 30: 'раз-два',\n",
       " 33: 'раз',\n",
       " 35: 'два',\n",
       " 36: 'раз',\n",
       " 39: 'раз',\n",
       " 40: 'два',\n",
       " 42: 'раз',\n",
       " 45: 'раз-два',\n",
       " 48: 'раз',\n",
       " 50: 'два',\n",
       " 51: 'раз',\n",
       " 54: 'раз',\n",
       " 55: 'два',\n",
       " 57: 'раз',\n",
       " 60: 'раз-два',\n",
       " 63: 'раз',\n",
       " 65: 'два',\n",
       " 66: 'раз',\n",
       " 69: 'раз',\n",
       " 70: 'два',\n",
       " 72: 'раз',\n",
       " 75: 'раз-два',\n",
       " 78: 'раз',\n",
       " 80: 'два',\n",
       " 81: 'раз',\n",
       " 84: 'раз',\n",
       " 85: 'два',\n",
       " 87: 'раз',\n",
       " 90: 'раз-два',\n",
       " 93: 'раз',\n",
       " 95: 'два',\n",
       " 96: 'раз',\n",
       " 99: 'раз'}"
      ]
     },
     "execution_count": 323,
     "metadata": {},
     "output_type": "execute_result"
    }
   ],
   "source": [
    "%%time\n",
    "kratnost1(100)"
   ]
  },
  {
   "cell_type": "markdown",
   "metadata": {},
   "source": [
    "# Кратность 2"
   ]
  },
  {
   "cell_type": "code",
   "execution_count": 324,
   "metadata": {},
   "outputs": [],
   "source": [
    "def kratnost2(n):\n",
    "    kra={}\n",
    "    for i in range(1,n):\n",
    "    \n",
    "        if i%105==0:\n",
    "            kra[i]='раз-два-три'\n",
    "        elif i%15==0:\n",
    "            kra[i]='раз-два'\n",
    "        elif i%21==0:\n",
    "            kra[i]='раз-три'\n",
    "        elif i%35==0:\n",
    "            kra[i]='два-три'\n",
    "        elif i%3==0:\n",
    "            kra[i]='раз'\n",
    "        elif i%5==0:\n",
    "            kra[i]='два'\n",
    "        elif i%7==0:\n",
    "            kra[i]='три'\n",
    "        \n",
    "    return kra\n",
    "  \n",
    "    "
   ]
  },
  {
   "cell_type": "code",
   "execution_count": 326,
   "metadata": {},
   "outputs": [
    {
     "data": {
      "text/plain": [
       "{3: 'раз',\n",
       " 5: 'два',\n",
       " 6: 'раз',\n",
       " 7: 'три',\n",
       " 9: 'раз',\n",
       " 10: 'два',\n",
       " 12: 'раз',\n",
       " 14: 'три',\n",
       " 15: 'раз-два',\n",
       " 18: 'раз',\n",
       " 20: 'два',\n",
       " 21: 'раз-три',\n",
       " 24: 'раз',\n",
       " 25: 'два',\n",
       " 27: 'раз',\n",
       " 28: 'три',\n",
       " 30: 'раз-два',\n",
       " 33: 'раз',\n",
       " 35: 'два-три',\n",
       " 36: 'раз',\n",
       " 39: 'раз',\n",
       " 40: 'два',\n",
       " 42: 'раз-три',\n",
       " 45: 'раз-два',\n",
       " 48: 'раз',\n",
       " 49: 'три',\n",
       " 50: 'два',\n",
       " 51: 'раз',\n",
       " 54: 'раз',\n",
       " 55: 'два',\n",
       " 56: 'три',\n",
       " 57: 'раз',\n",
       " 60: 'раз-два',\n",
       " 63: 'раз-три',\n",
       " 65: 'два',\n",
       " 66: 'раз',\n",
       " 69: 'раз',\n",
       " 70: 'два-три',\n",
       " 72: 'раз',\n",
       " 75: 'раз-два',\n",
       " 77: 'три',\n",
       " 78: 'раз',\n",
       " 80: 'два',\n",
       " 81: 'раз',\n",
       " 84: 'раз-три',\n",
       " 85: 'два',\n",
       " 87: 'раз',\n",
       " 90: 'раз-два',\n",
       " 91: 'три',\n",
       " 93: 'раз',\n",
       " 95: 'два',\n",
       " 96: 'раз',\n",
       " 98: 'три',\n",
       " 99: 'раз',\n",
       " 100: 'два',\n",
       " 102: 'раз',\n",
       " 105: 'раз-два-три',\n",
       " 108: 'раз',\n",
       " 110: 'два',\n",
       " 111: 'раз',\n",
       " 112: 'три',\n",
       " 114: 'раз',\n",
       " 115: 'два',\n",
       " 117: 'раз',\n",
       " 119: 'три',\n",
       " 120: 'раз-два',\n",
       " 123: 'раз',\n",
       " 125: 'два',\n",
       " 126: 'раз-три',\n",
       " 129: 'раз',\n",
       " 130: 'два',\n",
       " 132: 'раз',\n",
       " 133: 'три',\n",
       " 135: 'раз-два',\n",
       " 138: 'раз',\n",
       " 140: 'два-три',\n",
       " 141: 'раз',\n",
       " 144: 'раз',\n",
       " 145: 'два',\n",
       " 147: 'раз-три',\n",
       " 150: 'раз-два',\n",
       " 153: 'раз',\n",
       " 154: 'три',\n",
       " 155: 'два',\n",
       " 156: 'раз',\n",
       " 159: 'раз',\n",
       " 160: 'два',\n",
       " 161: 'три',\n",
       " 162: 'раз',\n",
       " 165: 'раз-два',\n",
       " 168: 'раз-три',\n",
       " 170: 'два',\n",
       " 171: 'раз',\n",
       " 174: 'раз',\n",
       " 175: 'два-три',\n",
       " 177: 'раз',\n",
       " 180: 'раз-два',\n",
       " 182: 'три',\n",
       " 183: 'раз',\n",
       " 185: 'два',\n",
       " 186: 'раз',\n",
       " 189: 'раз-три',\n",
       " 190: 'два',\n",
       " 192: 'раз',\n",
       " 195: 'раз-два',\n",
       " 196: 'три',\n",
       " 198: 'раз',\n",
       " 200: 'два',\n",
       " 201: 'раз',\n",
       " 203: 'три',\n",
       " 204: 'раз',\n",
       " 205: 'два',\n",
       " 207: 'раз',\n",
       " 210: 'раз-два-три',\n",
       " 213: 'раз',\n",
       " 215: 'два',\n",
       " 216: 'раз',\n",
       " 217: 'три',\n",
       " 219: 'раз',\n",
       " 220: 'два',\n",
       " 222: 'раз',\n",
       " 224: 'три',\n",
       " 225: 'раз-два',\n",
       " 228: 'раз',\n",
       " 230: 'два',\n",
       " 231: 'раз-три',\n",
       " 234: 'раз',\n",
       " 235: 'два',\n",
       " 237: 'раз',\n",
       " 238: 'три',\n",
       " 240: 'раз-два',\n",
       " 243: 'раз',\n",
       " 245: 'два-три',\n",
       " 246: 'раз',\n",
       " 249: 'раз',\n",
       " 250: 'два',\n",
       " 252: 'раз-три',\n",
       " 255: 'раз-два',\n",
       " 258: 'раз',\n",
       " 259: 'три',\n",
       " 260: 'два',\n",
       " 261: 'раз',\n",
       " 264: 'раз',\n",
       " 265: 'два',\n",
       " 266: 'три',\n",
       " 267: 'раз',\n",
       " 270: 'раз-два',\n",
       " 273: 'раз-три',\n",
       " 275: 'два',\n",
       " 276: 'раз',\n",
       " 279: 'раз',\n",
       " 280: 'два-три',\n",
       " 282: 'раз',\n",
       " 285: 'раз-два',\n",
       " 287: 'три',\n",
       " 288: 'раз',\n",
       " 290: 'два',\n",
       " 291: 'раз',\n",
       " 294: 'раз-три',\n",
       " 295: 'два',\n",
       " 297: 'раз',\n",
       " 300: 'раз-два',\n",
       " 301: 'три',\n",
       " 303: 'раз',\n",
       " 305: 'два',\n",
       " 306: 'раз',\n",
       " 308: 'три',\n",
       " 309: 'раз',\n",
       " 310: 'два',\n",
       " 312: 'раз',\n",
       " 315: 'раз-два-три',\n",
       " 318: 'раз',\n",
       " 320: 'два',\n",
       " 321: 'раз',\n",
       " 322: 'три',\n",
       " 324: 'раз',\n",
       " 325: 'два',\n",
       " 327: 'раз',\n",
       " 329: 'три',\n",
       " 330: 'раз-два',\n",
       " 333: 'раз',\n",
       " 335: 'два',\n",
       " 336: 'раз-три',\n",
       " 339: 'раз',\n",
       " 340: 'два',\n",
       " 342: 'раз',\n",
       " 343: 'три',\n",
       " 345: 'раз-два',\n",
       " 348: 'раз',\n",
       " 350: 'два-три',\n",
       " 351: 'раз',\n",
       " 354: 'раз',\n",
       " 355: 'два',\n",
       " 357: 'раз-три',\n",
       " 360: 'раз-два',\n",
       " 363: 'раз',\n",
       " 364: 'три',\n",
       " 365: 'два',\n",
       " 366: 'раз',\n",
       " 369: 'раз',\n",
       " 370: 'два',\n",
       " 371: 'три',\n",
       " 372: 'раз',\n",
       " 375: 'раз-два',\n",
       " 378: 'раз-три',\n",
       " 380: 'два',\n",
       " 381: 'раз',\n",
       " 384: 'раз',\n",
       " 385: 'два-три',\n",
       " 387: 'раз',\n",
       " 390: 'раз-два',\n",
       " 392: 'три',\n",
       " 393: 'раз',\n",
       " 395: 'два',\n",
       " 396: 'раз',\n",
       " 399: 'раз-три',\n",
       " 400: 'два',\n",
       " 402: 'раз',\n",
       " 405: 'раз-два',\n",
       " 406: 'три',\n",
       " 408: 'раз',\n",
       " 410: 'два',\n",
       " 411: 'раз',\n",
       " 413: 'три',\n",
       " 414: 'раз',\n",
       " 415: 'два',\n",
       " 417: 'раз',\n",
       " 420: 'раз-два-три',\n",
       " 423: 'раз',\n",
       " 425: 'два',\n",
       " 426: 'раз',\n",
       " 427: 'три',\n",
       " 429: 'раз',\n",
       " 430: 'два',\n",
       " 432: 'раз',\n",
       " 434: 'три',\n",
       " 435: 'раз-два',\n",
       " 438: 'раз',\n",
       " 440: 'два',\n",
       " 441: 'раз-три',\n",
       " 444: 'раз',\n",
       " 445: 'два',\n",
       " 447: 'раз',\n",
       " 448: 'три',\n",
       " 450: 'раз-два',\n",
       " 453: 'раз',\n",
       " 455: 'два-три',\n",
       " 456: 'раз',\n",
       " 459: 'раз',\n",
       " 460: 'два',\n",
       " 462: 'раз-три',\n",
       " 465: 'раз-два',\n",
       " 468: 'раз',\n",
       " 469: 'три',\n",
       " 470: 'два',\n",
       " 471: 'раз',\n",
       " 474: 'раз',\n",
       " 475: 'два',\n",
       " 476: 'три',\n",
       " 477: 'раз',\n",
       " 480: 'раз-два',\n",
       " 483: 'раз-три',\n",
       " 485: 'два',\n",
       " 486: 'раз',\n",
       " 489: 'раз',\n",
       " 490: 'два-три',\n",
       " 492: 'раз',\n",
       " 495: 'раз-два',\n",
       " 497: 'три',\n",
       " 498: 'раз'}"
      ]
     },
     "execution_count": 326,
     "metadata": {},
     "output_type": "execute_result"
    }
   ],
   "source": [
    "kratnost2(500)"
   ]
  },
  {
   "cell_type": "code",
   "execution_count": 227,
   "metadata": {},
   "outputs": [],
   "source": [
    "import math"
   ]
  },
  {
   "cell_type": "markdown",
   "metadata": {},
   "source": [
    "# Сортировки"
   ]
  },
  {
   "cell_type": "code",
   "execution_count": 201,
   "metadata": {},
   "outputs": [],
   "source": [
    "def your_list(n): # number of random elements  \n",
    "    my_list=[random.randint(0, n) for x in range(n)]\n",
    "    return my_list"
   ]
  },
  {
   "cell_type": "code",
   "execution_count": 202,
   "metadata": {},
   "outputs": [],
   "source": [
    "my_list=your_list(10)"
   ]
  },
  {
   "cell_type": "code",
   "execution_count": 203,
   "metadata": {},
   "outputs": [],
   "source": [
    "def bubble(my_list):\n",
    "    for i in range(len(my_list)):\n",
    "        for j in range(-1,(-len(my_list)),-1):\n",
    "                if my_list[j]<my_list[j-1]:\n",
    "                     my_list[j-1],my_list[j]=my_list[j],my_list[j-1]\n",
    "    return my_list                    "
   ]
  },
  {
   "cell_type": "code",
   "execution_count": 204,
   "metadata": {},
   "outputs": [
    {
     "data": {
      "text/plain": [
       "[0, 1, 1, 3, 3, 3, 4, 6, 7, 8]"
      ]
     },
     "execution_count": 204,
     "metadata": {},
     "output_type": "execute_result"
    }
   ],
   "source": [
    "bubble(my_list)"
   ]
  },
  {
   "cell_type": "code",
   "execution_count": 206,
   "metadata": {},
   "outputs": [],
   "source": [
    "def vstavka(my_list):\n",
    "    for i in range(len(my_list)-1):\n",
    "            j=i+1\n",
    "            while j!=0 and my_list[i]>my_list[i+1]:\n",
    "                my_list[i+1],my_list[i]=my_list[i],my_list[i+1]\n",
    "                j-=1\n",
    "                i-=1\n",
    "    return my_list"
   ]
  },
  {
   "cell_type": "code",
   "execution_count": 207,
   "metadata": {},
   "outputs": [],
   "source": [
    "my_list=your_list(10)"
   ]
  },
  {
   "cell_type": "code",
   "execution_count": 208,
   "metadata": {},
   "outputs": [
    {
     "data": {
      "text/plain": [
       "[0, 0, 4, 4, 5, 6, 7, 8, 8, 10]"
      ]
     },
     "execution_count": 208,
     "metadata": {},
     "output_type": "execute_result"
    }
   ],
   "source": [
    "vstavka(my_list)"
   ]
  },
  {
   "cell_type": "code",
   "execution_count": 270,
   "metadata": {},
   "outputs": [],
   "source": [
    "def shell(my_list):\n",
    "    \n",
    "    length=int(len(my_list)/2)\n",
    "    while length!=0 :      \n",
    "        for i in range(0,len(my_list)-length):\n",
    "            j=i\n",
    "            while  j>=0 and my_list[j]>my_list[j+i]:\n",
    "                my_list[j],my_list[j+i]=my_list[j+i],my_list[j]    \n",
    "            \n",
    "                j-=1\n",
    "               \n",
    "        length=int(length/2)\n",
    "\n",
    "    return my_list"
   ]
  },
  {
   "cell_type": "code",
   "execution_count": 396,
   "metadata": {},
   "outputs": [
    {
     "data": {
      "text/plain": [
       "[0, 10, 0, 0, 10, 6, 9, 7, 10, 6]"
      ]
     },
     "execution_count": 396,
     "metadata": {},
     "output_type": "execute_result"
    }
   ],
   "source": [
    "my_list=your_list(10)\n",
    "my_list"
   ]
  },
  {
   "cell_type": "code",
   "execution_count": 397,
   "metadata": {},
   "outputs": [],
   "source": [
    "def shell(my_list): \n",
    "    j = int(len(my_list)/2) \n",
    "    while j> 0:\n",
    "        for i in range(len(my_list)-j): \n",
    "            step = i\n",
    "            while step >= 0 and my_list[step] > my_list[step+j]:\n",
    "                my_list[step], my_list[step+j] = my_list[step+j], my_list[step] \n",
    "                step -= 1 \n",
    "        j  = int(j/2) \n",
    "    return (my_list)"
   ]
  },
  {
   "cell_type": "code",
   "execution_count": 398,
   "metadata": {},
   "outputs": [
    {
     "data": {
      "text/plain": [
       "[0, 0, 0, 6, 6, 7, 9, 10, 10, 10]"
      ]
     },
     "execution_count": 398,
     "metadata": {},
     "output_type": "execute_result"
    }
   ],
   "source": [
    "shell(my_list)"
   ]
  },
  {
   "cell_type": "code",
   "execution_count": null,
   "metadata": {},
   "outputs": [],
   "source": []
  }
 ],
 "metadata": {
  "kernelspec": {
   "display_name": "Python 3",
   "language": "python",
   "name": "python3"
  },
  "language_info": {
   "codemirror_mode": {
    "name": "ipython",
    "version": 3
   },
   "file_extension": ".py",
   "mimetype": "text/x-python",
   "name": "python",
   "nbconvert_exporter": "python",
   "pygments_lexer": "ipython3",
   "version": "3.7.6"
  }
 },
 "nbformat": 4,
 "nbformat_minor": 4
}
